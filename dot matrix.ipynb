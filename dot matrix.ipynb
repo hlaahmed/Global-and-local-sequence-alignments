{
 "cells": [
  {
   "cell_type": "code",
   "execution_count": 21,
   "metadata": {},
   "outputs": [],
   "source": [
    "import numpy\n",
    "import matplotlib.pyplot as plt\n",
    "plt.rc('figure', figsize=(10, 10))"
   ]
  },
  {
   "cell_type": "code",
   "execution_count": 22,
   "metadata": {},
   "outputs": [],
   "source": [
    "def M(seq1,win_size,step):\n",
    "    k=0\n",
    "    list = []\n",
    "    l = \"\"\n",
    "    for i in range(len(seq1)-win_size):\n",
    "        end = k+win_size\n",
    "        if(k>len(seq1)):\n",
    "            break\n",
    "        if(end>len(seq1)):\n",
    "            break\n",
    "        curr_vertical_win = seq1[k:end]\n",
    "        for j in range(len(curr_vertical_win)):\n",
    "            l = l + curr_vertical_win[j]\n",
    "        k=k+step\n",
    "        list.append(l)\n",
    "        l=\"\"\n",
    "    return list"
   ]
  },
  {
   "cell_type": "code",
   "execution_count": 102,
   "metadata": {},
   "outputs": [],
   "source": [
    "def draw_Matrix(seqx,seqy,a,l1,l2,threshold,win_size,step):\n",
    "    lx = []\n",
    "    ly = []\n",
    "    for i in range(len(l1)):\n",
    "        for j in range(len(l2)):\n",
    "            if(sum(c1 == c2 for c1, c2 in zip(l1[i], l2[j])) >= threshold):\n",
    "                print(\"******************************************************************************************\")\n",
    "                print(seqy[i*step :i*step  + win_size])\n",
    "                print(seqx[j*step :j*step  + win_size],end = ' no. of matches greater than threshold, plot a dot')\n",
    "                print(\" \")\n",
    "                print(\"******************************************************************************************\")\n",
    "                row = int(win_size/2) + step*i\n",
    "                col = int(win_size/2) + step*j\n",
    "                a[row,col]=0\n",
    "                lx.append(row)\n",
    "                ly.append(col)\n",
    "            else:\n",
    "                print(\"No action taken, match less than threshold\")\n",
    "    return lx,ly"
   ]
  },
  {
   "cell_type": "code",
   "execution_count": 103,
   "metadata": {},
   "outputs": [],
   "source": [
    "def dot_calc(seqx,seqy,threshold,win_size,step):\n",
    "    l1 = M(seqy,win_size,step)\n",
    "    l2 = M(seqx,win_size,step)\n",
    "    a= numpy.empty((len(seqx),len(seqy)))\n",
    "    a.fill(1)\n",
    "    lx,ly = draw_Matrix(seqx,seqy,a,l1,l2,threshold,win_size,step)\n",
    "    #print(a)\n",
    "    dotplot=plt.imshow(numpy.array(a))\n",
    "    xt=plt.xticks(numpy.arange(len(list(seqx))),list(seqx))\n",
    "    yt=plt.yticks(numpy.arange(len(list(seqy))),list(seqy))\n",
    "    plt.show()"
   ]
  },
  {
   "cell_type": "code",
   "execution_count": 104,
   "metadata": {},
   "outputs": [
    {
     "name": "stdout",
     "output_type": "stream",
     "text": [
      "******************************************************************************************\n",
      "ACGTTGACC\n",
      "ACCTTGTCC no. of matches greater than threshold, plot a dot \n",
      "******************************************************************************************\n",
      "No action taken, match less than threshold\n",
      "No action taken, match less than threshold\n",
      "******************************************************************************************\n",
      "ACGTTGACC\n",
      "TCTTTGCCC no. of matches greater than threshold, plot a dot \n",
      "******************************************************************************************\n",
      "No action taken, match less than threshold\n",
      "******************************************************************************************\n",
      "TTGACCTGT\n",
      "TTGTCCTCT no. of matches greater than threshold, plot a dot \n",
      "******************************************************************************************\n",
      "No action taken, match less than threshold\n",
      "No action taken, match less than threshold\n",
      "******************************************************************************************\n",
      "ACCTGTAAC\n",
      "ACCTTGTCC no. of matches greater than threshold, plot a dot \n",
      "******************************************************************************************\n",
      "No action taken, match less than threshold\n",
      "******************************************************************************************\n",
      "ACCTGTAAC\n",
      "TCCTCTTTG no. of matches greater than threshold, plot a dot \n",
      "******************************************************************************************\n",
      "No action taken, match less than threshold\n",
      "No action taken, match less than threshold\n",
      "No action taken, match less than threshold\n",
      "No action taken, match less than threshold\n",
      "******************************************************************************************\n",
      "TGTAACCTC\n",
      "TCTTTGCCC no. of matches greater than threshold, plot a dot \n",
      "******************************************************************************************\n"
     ]
    },
    {
     "data": {
      "image/png": "[encoded data removed]",
      "text/plain": [
       "<Figure size 720x720 with 1 Axes>"
      ]
     },
     "metadata": {
      "needs_background": "light"
     },
     "output_type": "display_data"
    }
   ],
   "source": [
    "seqx = \"ACCTTGTCCTCTTTGCCC\"\n",
    "seqy = \"ACGTTGACCTGTAACCTC\"\n",
    "threshold = 4\n",
    "win_size = 9\n",
    "step = 3\n",
    "dot_calc(seqx,seqy,threshold,win_size,step)"
   ]
  },
  {
   "cell_type": "code",
   "execution_count": null,
   "metadata": {},
   "outputs": [],
   "source": []
  }
 ],
 "metadata": {
  "kernelspec": {
   "display_name": "Python 3",
   "language": "python",
   "name": "python3"
  },
  "language_info": {
   "codemirror_mode": {
    "name": "ipython",
    "version": 3
   },
   "file_extension": ".py",
   "mimetype": "text/x-python",
   "name": "python",
   "nbconvert_exporter": "python",
   "pygments_lexer": "ipython3",
   "version": "3.8.3"
  }
 },
 "nbformat": 4,
 "nbformat_minor": 4
}
